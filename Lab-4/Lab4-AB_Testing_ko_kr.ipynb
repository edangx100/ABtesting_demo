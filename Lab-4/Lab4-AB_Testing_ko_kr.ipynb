{
 "cells": [
  {
   "cell_type": "markdown",
   "metadata": {},
   "source": [
    "# Amazon SageMaker로 A/B 테스트\n",
    "\n",
    "A/B 테스팅은 카나리아 테스팅과 비슷하지만 더 큰 사용자 그룹과 더 긴 기간(일반적으로 며칠 또는 몇 주)이 있습니다. 이러한 유형의 테스트에서 Amazon SageMaker 엔드포인트 구성은 두 가지 프로덕션 변형을 사용합니다. 하나는 모델 A용이고 다른 하나는 모델 B입니다. 시작하려면 두 모델 간의 트래픽 균형을 동등하게(50/50)하도록 두 모델의 설정을 구성하고 다음을 확인하십시오. 두 모델 모두 동일한 인스턴스 구성을 갖습니다. 동일한 가중치의 초기 설정으로 두 모델의 성능을 모니터링한 후에는 트래픽 가중치를 점진적으로 변경하여 모델의 균형이 맞지 않게 하거나(60/40, 80/20 등) 트래픽 가중치를 변경할 수 있습니다. 단일 모델이 모든 실시간 트래픽을 처리할 때까지 계속해서 단일 단계로 가중치를 부여합니다.\n",
    "\n",
    "수행 중인 A/B 테스트의 경우 모델은 동일한 분류 문제에 대해 두 가지 다른 알고리즘을 사용하고 있습니다. **decision tree** 알고리즘으로 ModelA 코드를 업데이트하고 **random Forest** 알고리즘으로 ModelB 코드를 업데이트했습니다. 최적화된 반복을 찾기 위해 동일한 알고리즘으로 다른 하이퍼파라미터를 사용하는 것도 모범 사례입니다.\n",
    "\n",
    "이 노트북에서는 다음을 수행할 수 있습니다.\n",
    "* 특정 변형을 호출하여 모델 평가\n",
    "* 트래픽 분포를 지정하여 점진적으로 새로운 모델 출시"
   ]
  },
  {
   "cell_type": "markdown",
   "metadata": {},
   "source": [
    "**참고** 코드 셀의 상태는 코드 셀 왼쪽에 표시됩니다.\n",
    "  - 셀이 실행되지 않음: In [ ]\n",
    "  - 셀이 실행되도록 예약되었거나 현재 실행 중: [\\*]\n",
    "  - 셀 실행 완료: [#]에서 #은 고유한 실행 번호입니다."
   ]
  },
  {
   "cell_type": "markdown",
   "metadata": {},
   "source": [
    "### 전제 조건\n",
    "\n",
    "먼저 최신 SageMaker 기능이 포함된 boto3의 업데이트된 버전이 있는지 확인하십시오."
   ]
  },
  {
   "cell_type": "code",
   "execution_count": null,
   "metadata": {},
   "outputs": [],
   "source": [
    "!pip install -U awscli"
   ]
  },
  {
   "cell_type": "markdown",
   "metadata": {},
   "source": [
    "## 1단계: 구성\n",
    "\n",
    "필수 import 및 변수 초기화를 수행합니다."
   ]
  },
  {
   "cell_type": "code",
   "execution_count": null,
   "metadata": {},
   "outputs": [],
   "source": [
    "%%time\n",
    "%matplotlib inline\n",
    "from datetime import datetime, timedelta\n",
    "import time\n",
    "import os\n",
    "import boto3\n",
    "import re\n",
    "import json\n",
    "from sagemaker import get_execution_role, session\n",
    "from sagemaker.s3 import S3Downloader, S3Uploader\n",
    "\n",
    "region= boto3.Session().region_name\n",
    "role = get_execution_role()\n",
    "sm_session = session.Session(boto3.Session())\n",
    "sm = boto3.Session().client(\"sagemaker\")\n",
    "sm_runtime = boto3.Session().client(\"sagemaker-runtime\")"
   ]
  },
  {
   "cell_type": "markdown",
   "metadata": {},
   "source": [
    "S3 modelDataBucket의 이름을 결정합니다."
   ]
  },
  {
   "cell_type": "code",
   "execution_count": null,
   "metadata": {},
   "outputs": [],
   "source": [
    "bucket = ''\n",
    "s3 = boto3.resource('s3')\n",
    "for buckets in s3.buckets.all():\n",
    "    if 'modeldatabucket' in buckets.name:\n",
    "        bucket = buckets.name\n",
    "print(bucket)\n",
    "prefix = 'v1.0/validation'"
   ]
  },
  {
   "cell_type": "markdown",
   "metadata": {},
   "source": [
    "앞에서 메모장에 복사해둔 **엔드포인트 이름**을 입력합니다."
   ]
  },
  {
   "cell_type": "code",
   "execution_count": null,
   "metadata": {},
   "outputs": [],
   "source": [
    "endpoint_name = 'enter_endpoint_name'\n",
    "if 'enter_endpoint_name' in endpoint_name:\n",
    "    raise Exception('You need to update the endpoint_name')"
   ]
  },
  {
   "cell_type": "markdown",
   "metadata": {},
   "source": [
    "S3 버킷에서 데이터를 다운로드합니다."
   ]
  },
  {
   "cell_type": "code",
   "execution_count": null,
   "metadata": {},
   "outputs": [],
   "source": [
    "S3Downloader.download(s3_uri=f\"s3://{bucket}/{prefix}/iris.csv\", local_path= 'data/')"
   ]
  },
  {
   "cell_type": "markdown",
   "metadata": {},
   "source": [
    "pandas 데이터 프레임으로 데이터를 읽어들입니다."
   ]
  },
  {
   "cell_type": "code",
   "execution_count": null,
   "metadata": {},
   "outputs": [],
   "source": [
    "import pandas as pd\n",
    "import numpy as np\n",
    "\n",
    "shape=pd.read_csv(\"data/iris.csv\", header=None)\n",
    "shape.sample(3)"
   ]
  },
  {
   "cell_type": "markdown",
   "metadata": {},
   "source": [
    "트래픽 생성을 위한 샘플 데이터를 생성합니다."
   ]
  },
  {
   "cell_type": "code",
   "execution_count": null,
   "metadata": {},
   "outputs": [],
   "source": [
    "import itertools\n",
    "\n",
    "a = [10*i for i in range(3)]\n",
    "b = [10+i for i in range(10)]\n",
    "indices = [i+j for i,j in itertools.product(a,b)]\n",
    "\n",
    "test_data = shape.drop(shape.columns[[0]],axis=1)\n",
    "test_data = test_data.iloc[indices]\n",
    "test_data_with_label = shape.iloc[indices]"
   ]
  },
  {
   "cell_type": "markdown",
   "metadata": {},
   "source": [
    "무작위 테스트 데이터를 로컬 디렉토리로 업데이트합니다."
   ]
  },
  {
   "cell_type": "code",
   "execution_count": null,
   "metadata": {},
   "outputs": [],
   "source": [
    "test_data.to_csv(\"data/data-test.csv\",index=False,header=False)\n",
    "test_data_with_label.to_csv(\"data/data-test-label.csv\",index=False,header=False)"
   ]
  },
  {
   "cell_type": "markdown",
   "metadata": {},
   "source": [
    "## 2단계: 배포된 모델 호출\n",
    "\n",
    "데이터를 엔드포인트로 보내 실시간으로 추론할 수 있습니다.\n",
    "\n",
    "이 단계는 약 2분 동안 샘플 데이터가 포함된 엔드포인트를 호출합니다."
   ]
  },
  {
   "cell_type": "code",
   "execution_count": null,
   "metadata": {},
   "outputs": [],
   "source": [
    "# get a subset of test data for a quick test\n",
    "print(f\"Sending test traffic to the endpoint {endpoint_name}. \\nPlease wait...\")\n",
    "predictions = ''\n",
    "\n",
    "with open('data/data-test.csv', 'r') as f:\n",
    "    for row in f:\n",
    "        print(\".\", end=\"\", flush=True)\n",
    "        payload = row.rstrip('\\n')\n",
    "        response = sm_runtime.invoke_endpoint(EndpointName=endpoint_name,\n",
    "                                   ContentType=\"text/csv\",\n",
    "                                   Body=payload)\n",
    "        predictions = ','.join([predictions, response['Body'].read().decode('utf-8')])\n",
    "        time.sleep(0.5)\n",
    "\n",
    "predictions = predictions.replace('\\n','')\n",
    "predictions = predictions.split(\",\")\n",
    "predictions.pop(0)\n",
    "print(\"=\"*20)\n",
    "print(predictions)\n",
    "print(\"Done!\") "
   ]
  },
  {
   "cell_type": "code",
   "execution_count": null,
   "metadata": {},
   "outputs": [],
   "source": [
    "labels = test_data_with_label[0].to_numpy()\n",
    "preds = np.array(predictions)\n",
    "preds = preds.astype(np.int)"
   ]
  },
  {
   "cell_type": "code",
   "execution_count": null,
   "metadata": {},
   "outputs": [],
   "source": [
    "# Calculate accuracy\n",
    "accuracy = np.count_nonzero(preds == labels) / len(labels)\n",
    "print(f\"Accuracy: {accuracy}\")"
   ]
  },
  {
   "cell_type": "markdown",
   "metadata": {},
   "source": [
    "### 변형별 호출\n",
    "\n",
    "Amazon SageMaker는 각 변형에 대해 지연 시간 및 호출(지표의 전체 목록 [여기](https://alpha-docs-aws.amazon.com/sagemaker/latest/dg/monitoring-cloudwatch.html))과 같은 지표를 내보냅니다. Amazon CloudWatch에서. CloudWatch를 쿼리하여 변형별 호출 수를 가져오겠습니다. 그러면 변형 간에 호출이 분할되는 방식이 표시됩니다."
   ]
  },
  {
   "cell_type": "code",
   "execution_count": null,
   "metadata": {},
   "outputs": [],
   "source": [
    "cw = boto3.Session().client(\"cloudwatch\")\n",
    "\n",
    "def get_invocation_metrics_for_endpoint_variant(endpoint_name,\n",
    "                                                variant_name,\n",
    "                                                start_time,\n",
    "                                                end_time):\n",
    "    metrics = cw.get_metric_statistics(\n",
    "        Namespace=\"AWS/SageMaker\",\n",
    "        MetricName=\"Invocations\",\n",
    "        StartTime=start_time,\n",
    "        EndTime=end_time,\n",
    "        Period=60,\n",
    "        Statistics=[\"Sum\"],\n",
    "        Dimensions=[\n",
    "            {\n",
    "                \"Name\": \"EndpointName\",\n",
    "                \"Value\": endpoint_name\n",
    "            },\n",
    "            {\n",
    "                \"Name\": \"VariantName\",\n",
    "                \"Value\": variant_name\n",
    "            }\n",
    "        ]\n",
    "    )\n",
    "    return pd.DataFrame(metrics[\"Datapoints\"])\\\n",
    "            .sort_values(\"Timestamp\")\\\n",
    "            .set_index(\"Timestamp\")\\\n",
    "            .drop(\"Unit\", axis=1)\\\n",
    "            .rename(columns={\"Sum\": variant_name})\n",
    "\n",
    "def plot_endpoint_metrics(start_time=None):\n",
    "    start_time = start_time or datetime.now() - timedelta(minutes=60)\n",
    "    end_time = datetime.now()\n",
    "    metrics_variant1 = get_invocation_metrics_for_endpoint_variant(endpoint_name, \"Variant1\", start_time, end_time)\n",
    "    metrics_variant2 = get_invocation_metrics_for_endpoint_variant(endpoint_name, \"Variant2\", start_time, end_time)\n",
    "    metrics_variants = metrics_variant1.join(metrics_variant2, how=\"outer\")\n",
    "    metrics_variants.plot()\n",
    "    return metrics_variants"
   ]
  },
  {
   "cell_type": "code",
   "execution_count": null,
   "metadata": {},
   "outputs": [],
   "source": [
    "print(\"Waiting a minute for initial metric creation...\")\n",
    "time.sleep(60)\n",
    "plot_endpoint_metrics()"
   ]
  },
  {
   "cell_type": "markdown",
   "metadata": {},
   "source": [
    "**참고:** 빈 그래프와 같은 오류가 관찰되면 이전 단계를 다시 실행하세요."
   ]
  },
  {
   "cell_type": "markdown",
   "metadata": {},
   "source": [
    "### 특정 변형 호출\n",
    "\n",
    "이제 특정 변형을 호출해 보겠습니다. 이를 위해 단순히 새 매개변수를 사용하여 호출하려는 특정 ProductionVariant를 정의합니다. 이것을 사용하여 모든 요청에 대해 Variant1을 호출해 보겠습니다."
   ]
  },
  {
   "cell_type": "markdown",
   "metadata": {},
   "source": [
    "### Variant 1"
   ]
  },
  {
   "cell_type": "code",
   "execution_count": null,
   "metadata": {},
   "outputs": [],
   "source": [
    "predictions1 = ''\n",
    "\n",
    "print(f\"Sending test traffic to the endpoint {endpoint_name}. \\nPlease wait...\")\n",
    "with open('data/data-test.csv', 'r') as f:\n",
    "    for row in f:\n",
    "        print(\".\", end=\"\", flush=True)\n",
    "        payload = row.rstrip('\\n')\n",
    "        response = sm_runtime.invoke_endpoint(EndpointName=endpoint_name,\n",
    "                                   ContentType=\"text/csv\",\n",
    "                                   Body=payload,\n",
    "                                   TargetVariant='Variant1')\n",
    "        predictions1 = ','.join([predictions1, response['Body'].read().decode('utf-8')])\n",
    "        time.sleep(0.5)\n",
    "\n",
    "predictions1 = predictions1.replace('\\n','')\n",
    "predictions1 = predictions1.split(\",\")\n",
    "predictions1.pop(0)\n",
    "print(\"=\"*20)\n",
    "print(predictions1)\n",
    "print(\"Done!\") "
   ]
  },
  {
   "cell_type": "code",
   "execution_count": null,
   "metadata": {},
   "outputs": [],
   "source": [
    "time.sleep(60) #let metrics catch up\n",
    "plot_endpoint_metrics()"
   ]
  },
  {
   "cell_type": "markdown",
   "metadata": {},
   "source": [
    "**참고:** 빈 그래프와 같은 오류가 관찰되면 이전 단계를 다시 실행하세요."
   ]
  },
  {
   "cell_type": "markdown",
   "metadata": {},
   "source": [
    "### Variant 1의 성능 평가"
   ]
  },
  {
   "cell_type": "code",
   "execution_count": null,
   "metadata": {},
   "outputs": [],
   "source": [
    "# Calculate accuracy\n",
    "\n",
    "labels1 = test_data_with_label[0].to_numpy()\n",
    "preds1 = np.array(predictions1)\n",
    "preds1 = preds1.astype(np.int)\n",
    "\n",
    "accuracy1 = np.count_nonzero(preds1 == labels1) / len(labels1)\n",
    "print(f\"Accuracy_variant1: {accuracy1}\")"
   ]
  },
  {
   "cell_type": "markdown",
   "metadata": {},
   "source": [
    "### Variant 2"
   ]
  },
  {
   "cell_type": "code",
   "execution_count": null,
   "metadata": {},
   "outputs": [],
   "source": [
    "predictions2 = ''\n",
    "\n",
    "print(f\"Sending test traffic to the endpoint {endpoint_name}. \\nPlease wait...\")\n",
    "with open('data/data-test.csv', 'r') as f:\n",
    "    for row in f:\n",
    "        print(\".\", end=\"\", flush=True)\n",
    "        payload = row.rstrip('\\n')\n",
    "        response = sm_runtime.invoke_endpoint(EndpointName=endpoint_name,\n",
    "                                   ContentType=\"text/csv\",\n",
    "                                   Body=payload,\n",
    "                                   TargetVariant='Variant2')\n",
    "        predictions2 = ','.join([predictions2, response['Body'].read().decode('utf-8')])\n",
    "        time.sleep(0.5)\n",
    "\n",
    "predictions2 = predictions2.replace('\\n','')\n",
    "predictions2 = predictions2.split(\",\")\n",
    "predictions2.pop(0)\n",
    "print(\"=\"*20)\n",
    "print(predictions2)\n",
    "print(\"Done!\") "
   ]
  },
  {
   "cell_type": "code",
   "execution_count": null,
   "metadata": {},
   "outputs": [],
   "source": [
    "time.sleep(60) #let metrics catch up\n",
    "plot_endpoint_metrics()"
   ]
  },
  {
   "cell_type": "markdown",
   "metadata": {},
   "source": [
    "**참고:** 빈 그래프와 같은 오류가 관찰되면 이전 단계를 다시 실행하세요."
   ]
  },
  {
   "cell_type": "markdown",
   "metadata": {},
   "source": [
    "### Variant 2의 성능 평가"
   ]
  },
  {
   "cell_type": "code",
   "execution_count": null,
   "metadata": {},
   "outputs": [],
   "source": [
    "# Calculate accuracy\n",
    "\n",
    "labels2 = test_data_with_label[0].to_numpy()\n",
    "preds2 = np.array(predictions2)\n",
    "preds2 = preds2.astype(np.int)\n",
    "\n",
    "accuracy2 = np.count_nonzero(preds2 == labels2) / len(labels2)\n",
    "print(f\"Accuracy_variant2: {accuracy2}\")"
   ]
  },
  {
   "cell_type": "markdown",
   "metadata": {},
   "source": [
    "## 3단계: 프로덕션 환경에서 선택한 변형으로 전환\n",
    "\n",
    "Variant1과 비교하여 Variant2가 더 나은 것으로 결정되었으므로 더 많은 트래픽을 이 위치로 이동합니다.\n",
    "\n",
    "TargetVariant를 계속 사용하여 선택한 변형을 계속 호출할 수 있습니다. 더 간단한 방법은 UpdateEndpointWeightsAndCapacities를 사용하여 각 변형에 할당된 가중치를 업데이트하는 것입니다. 이렇게 하면 엔드포인트를 업데이트하지 않고도 프로덕션 변형에 대한 트래픽 분포가 변경됩니다.\n",
    "\n",
    "변형 가중치는 다음과 같습니다."
   ]
  },
  {
   "cell_type": "code",
   "execution_count": null,
   "metadata": {},
   "outputs": [],
   "source": [
    "{\n",
    "    variant[\"VariantName\"]: variant[\"CurrentWeight\"]\n",
    "    for variant in sm.describe_endpoint(EndpointName=endpoint_name)[\"ProductionVariants\"]\n",
    "}"
   ]
  },
  {
   "cell_type": "markdown",
   "metadata": {},
   "source": [
    "먼저 엔드포인트(이전에 수행한 작업의 복사본)를 쉽게 호출하는 메서드를 작성합니다."
   ]
  },
  {
   "cell_type": "code",
   "execution_count": null,
   "metadata": {},
   "outputs": [],
   "source": [
    "def invoke_endpoint_for_two_minutes():\n",
    "    with open('data/data-test.csv', 'r') as f:\n",
    "        for row in f:\n",
    "            print(\".\", end=\"\", flush=True)\n",
    "            payload = row.rstrip('\\n')\n",
    "            response = sm_runtime.invoke_endpoint(EndpointName=endpoint_name,\n",
    "                                                  ContentType='text/csv', \n",
    "                                                  Body=payload)\n",
    "            response['Body'].read()\n",
    "            time.sleep(1)"
   ]
  },
  {
   "cell_type": "markdown",
   "metadata": {},
   "source": [
    "호출에서 균등 분할을 표시하기 위해 잠시 엔드포인트를 호출합니다.\n",
    "\n",
    "**참고** 이 단계를 완료하는 데 3-5분이 소요됩니다."
   ]
  },
  {
   "cell_type": "code",
   "execution_count": null,
   "metadata": {},
   "outputs": [],
   "source": [
    "invocation_start_time = datetime.now()\n",
    "invoke_endpoint_for_two_minutes()\n",
    "time.sleep(120) # give metrics time to catch up\n",
    "plot_endpoint_metrics(invocation_start_time)"
   ]
  },
  {
   "cell_type": "markdown",
   "metadata": {},
   "source": [
    "**참고:** 빈 그래프와 같은 오류가 관찰되면 이전 단계를 다시 실행하세요."
   ]
  },
  {
   "cell_type": "markdown",
   "metadata": {},
   "source": [
    "이제 UpdateEndpointWeightsAndCapacities를 사용하여 각 변형에 새 가중치를 할당하여 트래픽의 75%를 Variant2로 이동하겠습니다. Amazon SageMaker는 이제 추론 요청의 75%를 Variant2로 보내고 나머지 25%를 Variant1로 보냅니다."
   ]
  },
  {
   "cell_type": "code",
   "execution_count": null,
   "metadata": {},
   "outputs": [],
   "source": [
    "sm.update_endpoint_weights_and_capacities(\n",
    "    EndpointName=endpoint_name,\n",
    "    DesiredWeightsAndCapacities=[\n",
    "        {\n",
    "            \"DesiredWeight\": 25,\n",
    "            \"VariantName\": 'Variant1'\n",
    "        },\n",
    "        {\n",
    "            \"DesiredWeight\": 75,\n",
    "            \"VariantName\": 'Variant2'\n",
    "        }\n",
    "    ]\n",
    ")"
   ]
  },
  {
   "cell_type": "code",
   "execution_count": null,
   "metadata": {},
   "outputs": [],
   "source": [
    "print(\"Waiting for update to complete\")\n",
    "while True:\n",
    "    status = sm.describe_endpoint(EndpointName=endpoint_name)[\"EndpointStatus\"]\n",
    "    if status in [\"InService\", \"Failed\"]:\n",
    "        print(\"Done\")\n",
    "        break\n",
    "    print(\".\", end=\"\", flush=True)\n",
    "    time.sleep(1)\n",
    "\n",
    "{\n",
    "    variant[\"VariantName\"]: variant[\"CurrentWeight\"]\n",
    "    for variant in sm.describe_endpoint(EndpointName=endpoint_name)[\"ProductionVariants\"]\n",
    "}"
   ]
  },
  {
   "cell_type": "code",
   "execution_count": null,
   "metadata": {},
   "outputs": [],
   "source": [
    "invoke_endpoint_for_two_minutes()\n",
    "time.sleep(120) # give metrics time to catch up\n",
    "plot_endpoint_metrics(invocation_start_time)"
   ]
  },
  {
   "cell_type": "markdown",
   "metadata": {},
   "source": [
    "**참고:** 빈 그래프와 같은 오류가 관찰되면 이전 단계를 다시 실행하세요.\n",
    "\n",
    "측정항목을 계속 모니터링할 수 있으며 변형의 성능에 만족하면 트래픽의 100%를 변형을 통해 라우팅할 수 있습니다. UpdateEndpointWeightsAndCapacities를 사용하여 변형에 대한 트래픽 할당을 업데이트했습니다. Variant1의 가중치는 0으로 설정되고 Variant2의 가중치는 1로 설정됩니다. 따라서 SageMaker는 모든 추론 요청의 100%를 Variant2로 보냅니다."
   ]
  },
  {
   "cell_type": "markdown",
   "metadata": {},
   "source": [
    "### 도전\n",
    "\n",
    "이제 트래픽을 조정하는 방법을 알았습니다. 다음 코드를 완성하여 100% 트래픽을 Variant2로 보내 봅시다."
   ]
  },
  {
   "cell_type": "code",
   "execution_count": null,
   "metadata": {},
   "outputs": [],
   "source": [
    "## Add your solution here"
   ]
  },
  {
   "cell_type": "code",
   "execution_count": null,
   "metadata": {},
   "outputs": [],
   "source": [
    "invoke_endpoint_for_two_minutes()\n",
    "time.sleep(120) # give metrics time to catch up\n",
    "plot_endpoint_metrics(invocation_start_time)"
   ]
  },
  {
   "cell_type": "markdown",
   "metadata": {},
   "source": [
    "**참고:** 빈 그래프와 같은 오류가 관찰되면 이전 단계를 다시 실행하세요.\n",
    "\n",
    "각 변형에 대한 총 호출에 대한 Amazon CloudWatch 지표는 모든 추론 요청이 Variant2에서 처리되고 있고 Variant1에서 처리된 추론 요청이 없음을 나타냅니다.\n",
    "\n",
    "이제 안전하게 엔드포인트를 업데이트하고 여기에서 Variant1을 삭제할 수 있습니다. 끝점에 새 변형을 추가하고 2 - 4단계를 수행하여 프로덕션에서 새 모델을 계속 테스트할 수도 있습니다."
   ]
  },
  {
   "cell_type": "markdown",
   "metadata": {},
   "source": [
    "정답을 보려면 **[Lab 2 A/B 테스트 솔루션](../solutions/Lab4-AB_Testing-Solution.ipynb)**을 참조하세요."
   ]
  },
  {
   "cell_type": "markdown",
   "metadata": {},
   "source": [
    "## 엔드포인트 삭제\n",
    "\n",
    "이 엔드포인트를 더 이상 사용할 계획이 없으면 추가 요금이 발생하지 않도록 삭제해야 합니다."
   ]
  },
  {
   "cell_type": "code",
   "execution_count": null,
   "metadata": {},
   "outputs": [],
   "source": [
    "sm_session.delete_endpoint(endpoint_name)"
   ]
  },
  {
   "cell_type": "code",
   "execution_count": null,
   "metadata": {},
   "outputs": [],
   "source": []
  }
 ],
 "metadata": {
  "kernelspec": {
   "display_name": "conda_python3",
   "language": "python",
   "name": "conda_python3"
  },
  "language_info": {
   "codemirror_mode": {
    "name": "ipython",
    "version": 3
   },
   "file_extension": ".py",
   "mimetype": "text/x-python",
   "name": "python",
   "nbconvert_exporter": "python",
   "pygments_lexer": "ipython3",
   "version": "3.6.13"
  }
 },
 "nbformat": 4,
 "nbformat_minor": 4
}
